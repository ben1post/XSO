{
 "cells": [
  {
   "cell_type": "code",
   "execution_count": 1,
   "id": "236ae549-78bc-407a-833c-f2d379905ae5",
   "metadata": {},
   "outputs": [],
   "source": [
    "import xso"
   ]
  },
  {
   "cell_type": "code",
   "execution_count": 1,
   "id": "dba2c1c7-67f3-4104-9a81-f7261db5266b",
   "metadata": {},
   "outputs": [],
   "source": [
    "import xsimlab as xs\n",
    "\n",
    "from xso.core import PhydraCore\n",
    "\n",
    "\n",
    "@xs.process\n",
    "class Backend:\n",
    "    \"\"\"this object contains the backend model and is modified or read by all other components\"\"\"\n",
    "\n",
    "    solver_type = xs.variable(intent='in')\n",
    "    m = xs.any_object(description='model backend instance is stored here')\n",
    "\n",
    "    def initialize(self):\n",
    "        print('initializing model backend')\n",
    "        self.m = PhydraCore(self.solver_type)\n",
    "\n",
    "    def finalize(self):\n",
    "        print('finalizing: cleanup')\n",
    "        self.m.cleanup()  # for now only affects gekko solve"
   ]
  },
  {
   "cell_type": "code",
   "execution_count": 2,
   "id": "589ee754-d5f2-410f-aa84-ae2718b5ce70",
   "metadata": {},
   "outputs": [
    {
     "data": {
      "text/plain": [
       "__main__.Backend"
      ]
     },
     "execution_count": 2,
     "metadata": {},
     "output_type": "execute_result"
    }
   ],
   "source": [
    "Backend"
   ]
  },
  {
   "cell_type": "code",
   "execution_count": null,
   "id": "1de9082d-a40a-4e63-acb9-24bad8d388e8",
   "metadata": {},
   "outputs": [],
   "source": []
  }
 ],
 "metadata": {
  "kernelspec": {
   "display_name": "Python 3",
   "language": "python",
   "name": "python3"
  },
  "language_info": {
   "codemirror_mode": {
    "name": "ipython",
    "version": 3
   },
   "file_extension": ".py",
   "mimetype": "text/x-python",
   "name": "python",
   "nbconvert_exporter": "python",
   "pygments_lexer": "ipython3",
   "version": "3.9.4"
  }
 },
 "nbformat": 4,
 "nbformat_minor": 5
}
